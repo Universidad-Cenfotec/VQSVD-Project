{
 "cells": [
  {
   "cell_type": "code",
   "execution_count": 1,
   "id": "b6c0dc93",
   "metadata": {},
   "outputs": [],
   "source": [
    "import time\n",
    "import psutil\n",
    "import os\n",
    "import nbformat\n",
    "from nbconvert.preprocessors import ExecutePreprocessor\n",
    "import csv\n",
    "from scipy.stats import kruskal, mannwhitneyu\n",
    "import pandas as pd\n",
    "import subprocess\n",
    "import cProfile\n",
    "import pstats\n",
    "import threading\n",
    "import matplotlib.pyplot as plt"
   ]
  },
  {
   "cell_type": "code",
   "execution_count": 2,
   "id": "56edd16a",
   "metadata": {},
   "outputs": [],
   "source": [
    "class BENCHMARK_VQSVD():\n",
    "    def __init__(self, script_paths):\n",
    "        self.script_paths = script_paths  # Lista de scripts a correr\n",
    "        self.results = {os.path.basename(p): [] for p in script_paths}\n",
    "        self.all_profiles = []\n",
    "        self.df_sorted = None\n",
    "\n",
    "    def monitor_cpu(self, pid, usage_list, interval=0.1):\n",
    "        try:\n",
    "            proc = psutil.Process(pid)\n",
    "            while proc.is_running():\n",
    "                usage = proc.cpu_percent(interval=interval)\n",
    "                usage_list.append(usage)\n",
    "        except psutil.NoSuchProcess:\n",
    "            pass\n",
    "\n",
    "    def monitor_ram(self, pid, usage_list, interval=0.1):\n",
    "        try:\n",
    "            proc = psutil.Process(pid)\n",
    "            while proc.is_running():\n",
    "                usage = proc.memory_info().rss / 1024**2\n",
    "                usage_list.append(usage)\n",
    "                time.sleep(interval)\n",
    "        except psutil.NoSuchProcess:\n",
    "            pass\n",
    "\n",
    "    def run_script_and_measure(self, path_to_script, profile_output_path=None):\n",
    "        print(f\"Running: {path_to_script}\")\n",
    "        start_time = time.time()\n",
    "        cpu_usages = []\n",
    "        ram_usages = []\n",
    "\n",
    "        cmd = [\"python\", \"-m\", \"cProfile\", \"-o\", profile_output_path, path_to_script] if profile_output_path else [\"python\", path_to_script]\n",
    "        proc = subprocess.Popen(cmd, stdout=subprocess.DEVNULL, stderr=subprocess.DEVNULL)\n",
    "\n",
    "        cpu_thread = threading.Thread(target=self.monitor_cpu, args=(proc.pid, cpu_usages))\n",
    "        ram_thread = threading.Thread(target=self.monitor_ram, args=(proc.pid, ram_usages))\n",
    "        cpu_thread.start()\n",
    "        ram_thread.start()\n",
    "\n",
    "        proc.wait()\n",
    "        cpu_thread.join()\n",
    "        ram_thread.join()\n",
    "\n",
    "        end_time = time.time()\n",
    "\n",
    "        return {\n",
    "            \"source\": os.path.basename(path_to_script),\n",
    "            \"wall_time\": end_time - start_time,\n",
    "            \"cpu_percent\": sum(cpu_usages) / len(cpu_usages) if cpu_usages else 0,\n",
    "            \"ram_used_mb\": max(ram_usages) if ram_usages else 0,\n",
    "            \"profile_path\": profile_output_path if profile_output_path else None\n",
    "        }\n",
    "\n",
    "    def run_benchmark(self, iterations):\n",
    "        for i in range(iterations):\n",
    "            print(f\"\\n--- RUN {i+1} ---\")\n",
    "            for script in self.script_paths:\n",
    "                name = os.path.basename(script)\n",
    "                profile_path = f\"Output/profile/profile_{name.replace('.py','')}_run{i+1}.prof\"\n",
    "                result = self.run_script_and_measure(script, profile_output_path=profile_path)\n",
    "                self.results[name].append(result)\n",
    "\n",
    "        self.save_results_to_csv()\n",
    "        self.save_profile_to_csv(iterations)\n",
    "\n",
    "    def load_profile_to_dataframe(self, profile_path):\n",
    "        stats = pstats.Stats(profile_path)\n",
    "        stats_data = []\n",
    "\n",
    "        for func, stat in stats.stats.items():\n",
    "            file_name, line_no, func_name = func\n",
    "            cc, nc, tt, ct, callers = stat\n",
    "            stats_data.append({\n",
    "                \"file\": file_name,\n",
    "                \"line\": line_no,\n",
    "                \"function\": func_name,\n",
    "                \"ncalls\": nc,\n",
    "                \"tottime\": tt,\n",
    "                \"cumtime\": ct\n",
    "            })\n",
    "\n",
    "        return pd.DataFrame(stats_data)\n",
    "\n",
    "    def save_profile_to_csv(self, iterations):\n",
    "        for script in self.script_paths:\n",
    "            name = os.path.basename(script)\n",
    "            backend = name.replace(\".py\", \"\")\n",
    "            for i in range(iterations):\n",
    "                path = f\"Output/profile/profile_{backend}_run{i+1}.prof\"\n",
    "                if os.path.exists(path):\n",
    "                    df = self.load_profile_to_dataframe(path)\n",
    "                    df[\"backend\"] = backend\n",
    "                    df[\"run\"] = i + 1\n",
    "                    self.all_profiles.append(df)\n",
    "\n",
    "        df_all_profiles = pd.concat(self.all_profiles, ignore_index=True)\n",
    "        self.df_sorted = df_all_profiles.sort_values(by=\"cumtime\", ascending=False)\n",
    "        self.df_sorted.to_csv(\"Output/all_profiles_sorted.csv\", index=False)\n",
    "\n",
    "    def save_results_to_csv(self):\n",
    "        all_results = []\n",
    "        for script_name, res_list in self.results.items():\n",
    "            for res in res_list:\n",
    "                res[\"source\"] = script_name\n",
    "                all_results.append(res)\n",
    "        df = pd.DataFrame(all_results)\n",
    "        df.to_csv(\"Output/vqsvd_results.csv\", index=False)\n",
    "\n",
    "    def get_results(self):\n",
    "        return self.results\n",
    "\n",
    "    def get_df_sorted(self):\n",
    "        return self.df_sorted\n"
   ]
  },
  {
   "cell_type": "code",
   "execution_count": null,
   "id": "0c177225",
   "metadata": {},
   "outputs": [
    {
     "name": "stdout",
     "output_type": "stream",
     "text": [
      "\n",
      "--- RUN 1 ---\n",
      "Running: solution_clean_paddle.py\n",
      "Running: solution_clean_pennylane.py\n",
      "\n",
      "--- RUN 2 ---\n",
      "Running: solution_clean_paddle.py\n",
      "Running: solution_clean_pennylane.py\n",
      "\n",
      "--- RUN 3 ---\n",
      "Running: solution_clean_paddle.py\n",
      "Running: solution_clean_pennylane.py\n"
     ]
    }
   ],
   "source": [
    "\n",
    "scripts = [\"solution_clean_paddle.py\", \"solution_clean_pennylane.py\"]\n",
    "benchmark = BENCHMARK_VQSVD(scripts)\n",
    "benchmark.run_benchmark(iterations=3)  # puedes cambiar el número de iteraciones si quieres\n"
   ]
  },
  {
   "cell_type": "code",
   "execution_count": 12,
   "id": "979b4b69",
   "metadata": {},
   "outputs": [
    {
     "name": "stdout",
     "output_type": "stream",
     "text": [
      "Averages Pennylane:\n",
      "wall_time      133.938335\n",
      "cpu_percent    103.680089\n",
      "ram_used_mb    801.636719\n",
      "dtype: float64\n",
      "Averages Paddle:\n",
      "wall_time      135.250390\n",
      "cpu_percent    103.710547\n",
      "ram_used_mb    795.930990\n",
      "dtype: float64\n"
     ]
    },
    {
     "data": {
      "image/png": "[encoded data removed]",
      "text/plain": [
       "<Figure size 640x480 with 1 Axes>"
      ]
     },
     "metadata": {},
     "output_type": "display_data"
    }
   ],
   "source": [
    "results = benchmark.get_results()\n",
    "df = pd.DataFrame([entry for script_results in results.values() for entry in script_results])\n",
    "df_penny = df[df[\"source\"] == \"solution_clean_pennylane.py\"].reset_index(drop=True)\n",
    "df_paddle = df[df[\"source\"] == \"solution_clean_paddle.py\"].reset_index(drop=True)\n",
    "\n",
    "print(\"Averages Pennylane:\")\n",
    "print(df_penny[[\"wall_time\", \"cpu_percent\", \"ram_used_mb\"]].mean())\n",
    "\n",
    "print(\"Averages Paddle:\")\n",
    "print(df_paddle[[\"wall_time\", \"cpu_percent\", \"ram_used_mb\"]].mean())\n",
    "\n",
    "# Plot time\n",
    "plt.plot(df_penny[\"wall_time\"], label=\"Pennylane\")\n",
    "plt.plot(df_paddle[\"wall_time\"], label=\"Paddle\")\n",
    "plt.ylabel(\"Time (s)\")\n",
    "plt.xlabel(\"Execution\")\n",
    "plt.title(\"Execution time VQSVD\")\n",
    "plt.legend()\n",
    "plt.show()"
   ]
  },
  {
   "cell_type": "markdown",
   "id": "ab92b77f",
   "metadata": {},
   "source": [
    "Kruskal–Wallis"
   ]
  },
  {
   "cell_type": "code",
   "execution_count": 15,
   "id": "84f74822",
   "metadata": {},
   "outputs": [
    {
     "name": "stdout",
     "output_type": "stream",
     "text": [
      "Kruskal–Wallis test results:\n",
      "Wall time p-value: 0.8272593465627116\n",
      "CPU % p-value:     0.8272593465627116\n",
      "RAM used p-value:  0.27523352407483126\n"
     ]
    }
   ],
   "source": [
    "# Comparisons between Paddle and Pennylane\n",
    "\n",
    "kw_wall_time = kruskal(\n",
    "    df_paddle[\"wall_time\"],\n",
    "    df_penny[\"wall_time\"]\n",
    ")\n",
    "kw_cpu = kruskal(\n",
    "    df_paddle[\"cpu_percent\"],\n",
    "    df_penny[\"cpu_percent\"]\n",
    ")\n",
    "kw_ram = kruskal(\n",
    "    df_paddle[\"ram_used_mb\"],\n",
    "    df_penny[\"ram_used_mb\"]\n",
    ")\n",
    "\n",
    "print(\"Kruskal–Wallis test results:\")\n",
    "print(f\"Wall time p-value: {kw_wall_time.pvalue}\")\n",
    "print(f\"CPU % p-value:     {kw_cpu.pvalue}\")\n",
    "print(f\"RAM used p-value:  {kw_ram.pvalue}\")\n"
   ]
  },
  {
   "cell_type": "markdown",
   "id": "5146c334",
   "metadata": {},
   "source": [
    "Post-hoc – Mann–Whitney U (p < 0.05)"
   ]
  },
  {
   "cell_type": "code",
   "execution_count": 16,
   "id": "ff8e9900",
   "metadata": {},
   "outputs": [
    {
     "name": "stdout",
     "output_type": "stream",
     "text": [
      "\n",
      "Mann–Whitney U test results (post-hoc):\n",
      "Wall time p-value: 1.0\n",
      "CPU % p-value:     1.0\n",
      "RAM used p-value:  0.4\n"
     ]
    }
   ],
   "source": [
    "mw_wall = mannwhitneyu(\n",
    "    df_paddle[\"wall_time\"],\n",
    "    df_penny[\"wall_time\"],\n",
    "    alternative=\"two-sided\"\n",
    ")\n",
    "mw_cpu = mannwhitneyu(\n",
    "    df_paddle[\"cpu_percent\"],\n",
    "    df_penny[\"cpu_percent\"],\n",
    "    alternative=\"two-sided\"\n",
    ")\n",
    "mw_ram = mannwhitneyu(\n",
    "    df_paddle[\"ram_used_mb\"],\n",
    "    df_penny[\"ram_used_mb\"],\n",
    "    alternative=\"two-sided\"\n",
    ")\n",
    "\n",
    "print(\"\\nMann–Whitney U test results (post-hoc):\")\n",
    "print(f\"Wall time p-value: {mw_wall.pvalue}\")\n",
    "print(f\"CPU % p-value:     {mw_cpu.pvalue}\")\n",
    "print(f\"RAM used p-value:  {mw_ram.pvalue}\")\n"
   ]
  }
 ],
 "metadata": {
  "kernelspec": {
   "display_name": "Python 3",
   "language": "python",
   "name": "python3"
  },
  "language_info": {
   "codemirror_mode": {
    "name": "ipython",
    "version": 3
   },
   "file_extension": ".py",
   "mimetype": "text/x-python",
   "name": "python",
   "nbconvert_exporter": "python",
   "pygments_lexer": "ipython3",
   "version": "3.8.0"
  }
 },
 "nbformat": 4,
 "nbformat_minor": 5
}
